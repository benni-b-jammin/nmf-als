{
 "cells": [
  {
   "cell_type": "markdown",
   "id": "89188822-e72e-4346-be30-5f6fb4f2e7d2",
   "metadata": {},
   "source": [
    "# NMF ALS - Test Functions\n"
   ]
  },
  {
   "cell_type": "code",
   "execution_count": null,
   "id": "c46c3a99-c4eb-4921-8ac9-5bcf196f23cc",
   "metadata": {},
   "outputs": [],
   "source": []
  }
 ],
 "metadata": {
  "kernelspec": {
   "display_name": "Python 3 (ipykernel)",
   "language": "python",
   "name": "python3"
  },
  "language_info": {
   "codemirror_mode": {
    "name": "ipython",
    "version": 3
   },
   "file_extension": ".py",
   "mimetype": "text/x-python",
   "name": "python",
   "nbconvert_exporter": "python",
   "pygments_lexer": "ipython3",
   "version": "3.10.12"
  }
 },
 "nbformat": 4,
 "nbformat_minor": 5
}
