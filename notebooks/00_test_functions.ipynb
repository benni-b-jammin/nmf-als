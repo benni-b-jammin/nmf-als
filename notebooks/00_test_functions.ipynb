{
 "cells": [
  {
   "cell_type": "markdown",
   "id": "89188822-e72e-4346-be30-5f6fb4f2e7d2",
   "metadata": {},
   "source": [
    "# NMF ALS - Test Functions\n",
    "For testing the various functions of the NMF ALS program - WIP\n",
    "\n",
    "Author:         Benji Lawrence\n",
    "\n",
    "Last Modified:  05 August 2025"
   ]
  },
  {
   "cell_type": "markdown",
   "id": "26a2fd00-fb26-49b9-b7da-ef1c4bcda889",
   "metadata": {},
   "source": [
    "## Program imports & loading cortical thickness matrix\n",
    "Change `reset=True` in loading for full process"
   ]
  },
  {
   "cell_type": "code",
   "execution_count": 1,
   "id": "6bbb71c7-c5c7-4a92-a221-2a734db6bf12",
   "metadata": {},
   "outputs": [
    {
     "name": "stdout",
     "output_type": "stream",
     "text": [
      "T shape: (200, 20484)\n",
      "Sample filenames: ['1010_m48_AD', '1066_m72_AD', '1078_m96_AD']\n",
      "Sample labels: [('1010_m48_AD', 1), ('1066_m72_AD', 1), ('1078_m96_AD', 1)]\n"
     ]
    }
   ],
   "source": [
    "import os\n",
    "import sys\n",
    "\n",
    "# set directory to project root\n",
    "os.chdir(\"/home/benji/cortical-thickness/nmf-als\")\n",
    "\n",
    "# Core imports\n",
    "import numpy as np\n",
    "import matplotlib.pyplot as plt\n",
    "from src.data.load_ct_matrix import load_ct_matrix\n",
    "from src.models.nmf_runner import run_nmf\n",
    "# from src.models.opnmf_runner import run_opnmf\n",
    "from src.visual.plot_to_brain import visualize_ct\n",
    "\n",
    "# load and output results\n",
    "T, labels, filenames = load_ct_matrix(reset=False, hemisphere=\"bh\")\n",
    "print(\"T shape:\", T.shape)\n",
    "print(\"Sample filenames:\", filenames[:3])\n",
    "print(\"Sample labels:\", list(labels.items())[:3])\n"
   ]
  },
  {
   "cell_type": "markdown",
   "id": "b6124699-0b07-4b7e-b468-fb02e2132b9b",
   "metadata": {},
   "source": [
    "## Running NMF\n",
    "Testing NMF with standard input states (rank 2 selected for now)"
   ]
  },
  {
   "cell_type": "code",
   "execution_count": 2,
   "id": "ed39e58e-bf47-49e7-b15d-42a4c9867496",
   "metadata": {},
   "outputs": [
    {
     "name": "stdout",
     "output_type": "stream",
     "text": [
      "W shape: (200, 2)\n",
      "H shape: (2, 20484)\n",
      "Absolute Error: 1032.19382970901\n",
      "Relative Error: 0.2312\n"
     ]
    },
    {
     "name": "stderr",
     "output_type": "stream",
     "text": [
      "/home/benji/.local/lib/python3.10/site-packages/sklearn/decomposition/_nmf.py:1742: ConvergenceWarning: Maximum number of iterations 1000 reached. Increase it to improve convergence.\n",
      "  warnings.warn(\n"
     ]
    }
   ],
   "source": [
    "W, H, V = run_nmf(T, 2, max_iter=1000)\n",
    "print(\"W shape:\", W.shape)\n",
    "print(\"H shape:\", H.shape)\n",
    "\n",
    "abs_error = np.linalg.norm(T - V, 'fro')\n",
    "rel_error = abs_error / np.linalg.norm(T, 'fro')\n",
    "\n",
    "print(f\"Absolute Error: {abs_error}\")\n",
    "print(f\"Relative Error: {rel_error:.4f}\")\n"
   ]
  },
  {
   "cell_type": "markdown",
   "id": "e05de14c-c978-4e0a-88f4-643626c8aadb",
   "metadata": {},
   "source": [
    "## Visualization\n",
    "Using standard file data:"
   ]
  },
  {
   "cell_type": "code",
   "execution_count": 3,
   "id": "5809f5d6-8e27-42c7-83cc-f83b218d0648",
   "metadata": {},
   "outputs": [
    {
     "name": "stdout",
     "output_type": "stream",
     "text": [
      "LH exists: True\n",
      "RH exists: True\n"
     ]
    }
   ],
   "source": [
    "import os\n",
    "\n",
    "lh_path = \"./data/raw/subjects/fsa_results/1066_m72_AD.lh.fsaverage5.thickness.mgh\"\n",
    "rh_path = \"./data/raw/subjects/fsa_results/1066_m72_AD.rh.fsaverage5.thickness.mgh\"\n",
    "\n",
    "print(\"LH exists:\", os.path.exists(lh_path))\n",
    "print(\"RH exists:\", os.path.exists(rh_path))\n"
   ]
  },
  {
   "cell_type": "code",
   "execution_count": 9,
   "id": "061449c9-7922-4fd4-8e6f-906cfa1473f6",
   "metadata": {},
   "outputs": [
    {
     "data": {
      "image/png": "[encoded data removed]",
      "text/plain": [
       "<Figure size 600x120 with 1 Axes>"
      ]
     },
     "metadata": {},
     "output_type": "display_data"
    }
   ],
   "source": [
    "\n",
    "from src.visual.plot_to_brain import visualize_ct\n",
    "meshes = visualize_ct(\n",
    "    subject_id=\"1066_m72_AD\",\n",
    "    data_dir=\"./data/raw/subjects/fsa_results\",\n",
    "    hemi=\"rh\",\n",
    "    surface=\"inflated\",\n",
    "    cmap_name=\"plasma\"\n",
    ")\n",
    "\n",
    "# Trigger the mesh view\n",
    "i=0\n",
    "for mesh in meshes:\n",
    "    mesh.show()\n",
    "    mesh.export(f\"./results/brain{i}.ply\")\n",
    "    i += 1"
   ]
  },
  {
   "cell_type": "markdown",
   "id": "a1b33489-9f9a-4951-ab09-57b27cbc6c62",
   "metadata": {},
   "source": [
    "Using results from resulting NMF H matrix:"
   ]
  },
  {
   "cell_type": "code",
   "execution_count": 13,
   "id": "91e5f024-2dab-4496-97a5-495eb0fb1c9f",
   "metadata": {},
   "outputs": [
    {
     "data": {
      "image/png": "[encoded data removed]",
      "text/plain": [
       "<Figure size 600x120 with 1 Axes>"
      ]
     },
     "metadata": {},
     "output_type": "display_data"
    }
   ],
   "source": [
    "from src.visual.plot_to_brain import visualize_ct\n",
    "\n",
    "for row in range(0,1):\n",
    "    # H is your factor matrix from NMF\n",
    "    meshes = visualize_ct(\n",
    "        H_row=H[0],  # plot the first component\n",
    "        hemi=\"bh\",   # both hemispheres\n",
    "        surface=\"inflated\",\n",
    "        cmap_name=\"plasma\"\n",
    "    )\n",
    "\n",
    "    i=0\n",
    "    for mesh in meshes:\n",
    "        mesh.show()\n",
    "        mesh.export(f\"./results/nmf_brain{row}_{i}.ply\")\n",
    "        i += 1"
   ]
  },
  {
   "cell_type": "code",
   "execution_count": null,
   "id": "861765da-d172-423a-90d8-0fcbc6f2a1fa",
   "metadata": {},
   "outputs": [],
   "source": []
  },
  {
   "cell_type": "code",
   "execution_count": null,
   "id": "ff433e07-698f-47c8-8753-a83c21e789b4",
   "metadata": {},
   "outputs": [],
   "source": []
  },
  {
   "cell_type": "code",
   "execution_count": null,
   "id": "fd192a66-a86e-4913-9726-0ee0f4c94832",
   "metadata": {},
   "outputs": [],
   "source": []
  }
 ],
 "metadata": {
  "kernelspec": {
   "display_name": "Python 3 (ipykernel)",
   "language": "python",
   "name": "python3"
  },
  "language_info": {
   "codemirror_mode": {
    "name": "ipython",
    "version": 3
   },
   "file_extension": ".py",
   "mimetype": "text/x-python",
   "name": "python",
   "nbconvert_exporter": "python",
   "pygments_lexer": "ipython3",
   "version": "3.10.12"
  }
 },
 "nbformat": 4,
 "nbformat_minor": 5
}
